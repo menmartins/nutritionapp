{
 "cells": [
  {
   "cell_type": "markdown",
   "metadata": {},
   "source": [
    "# Classificando os alimentos"
   ]
  },
  {
   "cell_type": "code",
   "execution_count": 14,
   "metadata": {},
   "outputs": [
    {
     "name": "stdout",
     "output_type": "stream",
     "text": [
      "                NomeAlimento  IsBreakfast  IsLunch  IsDinner\n",
      "0        Rice, brown, cooked         True     True      True\n",
      "1       Rice, type 1, cooked         True     True      True\n",
      "2       Rice, type 2, cooked         True     True      True\n",
      "3          Oats, flakes, raw         True    False     False\n",
      "4  Cookie, sweet, cornstarch         True    False     False\n"
     ]
    }
   ],
   "source": [
    "import pandas as pd\n",
    "from transformers import pipeline\n",
    "\n",
    "# Load the data\n",
    "data = pd.read_csv('tbalimentos.csv')\n",
    "\n",
    "# Initialize the zero-shot classification pipeline\n",
    "classifier = pipeline(\"zero-shot-classification\", model=\"facebook/bart-large-mnli\")\n",
    "\n",
    "# Function to classify food into breakfast, lunch, and dinner\n",
    "def classify_food(item):\n",
    "    labels = ['breakfast', 'lunch', 'dinner']\n",
    "    result = classifier(item, candidate_labels=labels, multi_label=True)\n",
    "    # Create a dictionary with classification results, initializing scores to 0\n",
    "    label_scores = {label: 0 for label in labels}\n",
    "    for label, score in zip(result['labels'], result['scores']):\n",
    "        label_scores[label] = score\n",
    "    return label_scores\n",
    "\n",
    "# Apply classification to the text\n",
    "data['Classification'] = data['NomeAlimento'].apply(classify_food)\n",
    "\n",
    "# Function to check if any label scores are above a certain threshold\n",
    "def assign_label_based_on_score(label_scores, threshold=0.1):  # Adjust threshold as needed\n",
    "    return {label: score >= threshold for label, score in label_scores.items()}\n",
    "\n",
    "# Use a low threshold to determine which labels should be true\n",
    "data['Classification'] = data['Classification'].apply(assign_label_based_on_score)\n",
    "\n",
    "# Create boolean columns based on classification results\n",
    "data['IsBreakfast'] = data['Classification'].apply(lambda x: x['breakfast'])\n",
    "data['IsLunch'] = data['Classification'].apply(lambda x: x['lunch'])\n",
    "data['IsDinner'] = data['Classification'].apply(lambda x: x['dinner'])\n",
    "\n",
    "# Drop the 'Classification' column if you no longer need it\n",
    "data.drop(columns=['Classification'], inplace=True)\n",
    "\n",
    "# Save the updated DataFrame to a new CSV file\n",
    "data.to_csv('updated_tbalimentos.csv', index=False)\n",
    "\n",
    "# Print the first few rows to check the output\n",
    "print(data[['NomeAlimento', 'IsBreakfast', 'IsLunch', 'IsDinner']].head())"
   ]
  },
  {
   "cell_type": "markdown",
   "metadata": {},
   "source": [
    "# Interpolando os requisitos"
   ]
  },
  {
   "cell_type": "code",
   "execution_count": 5,
   "metadata": {},
   "outputs": [],
   "source": [
    "import pandas as pd\n",
    "import numpy as np\n",
    "from scipy.interpolate import interp1d\n",
    "\n",
    "def interpolate_dataset(file_path):\n",
    "    # Load the dataset\n",
    "    data = pd.read_csv(file_path)\n",
    "    \n",
    "    # Extract unique genders\n",
    "    genders = data['Sexo'].unique()\n",
    "\n",
    "    # Setup weight range for interpolation\n",
    "    weight_range = np.arange(2, 636)  # Generates weights from 2 kg to 635 kg in 1 kg increments\n",
    "\n",
    "    # Prepare a new DataFrame to hold the interpolated values\n",
    "    interpolated_data = pd.DataFrame()\n",
    "\n",
    "    for gender in genders:\n",
    "        gender_data = data[data['Sexo'] == gender]\n",
    "        \n",
    "        # Create an interpolation function for each nutritional factor\n",
    "        interpolated_funcs = {\n",
    "            column: interp1d(gender_data['Peso'], gender_data[column], kind='linear', fill_value='extrapolate')\n",
    "            for column in gender_data.columns if column != 'Sexo' and column != 'Peso'\n",
    "        }\n",
    "        \n",
    "        # Use the interpolation functions to calculate values for the new weight range\n",
    "        new_data = {column: func(weight_range) for column, func in interpolated_funcs.items()}\n",
    "        new_data = {k: np.round(v, 1) for k, v in new_data.items()}  # Round each interpolated value to 1 decimal place\n",
    "        new_data['Peso'] = weight_range\n",
    "        new_data['Sexo'] = [gender] * len(weight_range)\n",
    "        \n",
    "        # Append to the main DataFrame\n",
    "        interpolated_data = pd.concat([interpolated_data, pd.DataFrame(new_data)], ignore_index=True)\n",
    "\n",
    "    return interpolated_data\n",
    "\n",
    "# Usage example:\n",
    "file_path = 'requisitos.csv'  # Change this to the path of your CSV file\n",
    "interpolated_data = interpolate_dataset(file_path)\n",
    "interpolated_data.to_csv('interpolated_data.csv', index=False)  # Save the output to a new CSV file"
   ]
  }
 ],
 "metadata": {
  "kernelspec": {
   "display_name": "Python 3",
   "language": "python",
   "name": "python3"
  },
  "language_info": {
   "codemirror_mode": {
    "name": "ipython",
    "version": 3
   },
   "file_extension": ".py",
   "mimetype": "text/x-python",
   "name": "python",
   "nbconvert_exporter": "python",
   "pygments_lexer": "ipython3",
   "version": "3.12.3"
  }
 },
 "nbformat": 4,
 "nbformat_minor": 2
}
